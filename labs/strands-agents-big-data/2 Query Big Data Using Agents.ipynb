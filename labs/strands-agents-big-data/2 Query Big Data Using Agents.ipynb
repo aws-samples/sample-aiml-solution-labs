{
 "cells": [
  {
   "cell_type": "markdown",
   "metadata": {},
   "source": [
    "### GOAL - Query big data using AI Agents without writing big data analytics code. <br>\n",
    "The AI Agent will use built-in strands tools and MCP server to get the job done"
   ]
  },
  {
   "cell_type": "markdown",
   "metadata": {},
   "source": [
    "## Environment Setup\n",
    "Install required dependencies for the notebook including Strands SDK, AWS SDK, and MCP client libraries."
   ]
  },
  {
   "cell_type": "code",
   "execution_count": 2,
   "metadata": {
    "execution": {
     "iopub.execute_input": "2025-10-16T02:33:39.624651Z",
     "iopub.status.busy": "2025-10-16T02:33:39.623746Z",
     "iopub.status.idle": "2025-10-16T02:33:39.628882Z",
     "shell.execute_reply": "2025-10-16T02:33:39.628108Z",
     "shell.execute_reply.started": "2025-10-16T02:33:39.624612Z"
    }
   },
   "outputs": [],
   "source": [
    "import logging\n",
    "\n",
    "logging.basicConfig(\n",
    "    level=logging.DEBUG,\n",
    "    format='%(asctime)s - %(name)s - %(levelname)s - %(message)s',\n",
    "    datefmt='%m/%d %H:%M:%S',\n",
    "    filename='strands_debug.log'\n",
    ")\n"
   ]
  },
  {
   "cell_type": "markdown",
   "metadata": {},
   "source": [
    "### Pre-Requisites\n",
    "You have run the Notebook 1"
   ]
  },
  {
   "cell_type": "markdown",
   "metadata": {},
   "source": [
    "### Import Dependencies and AWS Configuration\n",
    "Import required libraries and configure AWS settings for the data processing workflow."
   ]
  },
  {
   "cell_type": "code",
   "execution_count": 3,
   "metadata": {
    "execution": {
     "iopub.execute_input": "2025-10-16T02:33:47.295947Z",
     "iopub.status.busy": "2025-10-16T02:33:47.295422Z",
     "iopub.status.idle": "2025-10-16T02:33:48.253875Z",
     "shell.execute_reply": "2025-10-16T02:33:48.253263Z",
     "shell.execute_reply.started": "2025-10-16T02:33:47.295915Z"
    }
   },
   "outputs": [],
   "source": [
    "# Import required libraries\n",
    "import os, time, boto3, json\n",
    "from strands import Agent, tool\n",
    "from strands.models import BedrockModel\n",
    "from strands_tools import use_aws, file_write, file_read, file_write, sleep, python_repl\n",
    "from datetime import datetime\n",
    "from pprint import pprint\n",
    "from pydantic import BaseModel, Field\n",
    "from typing import Optional, List\n",
    "\n",
    "# Bypass tool consent for automated execution\n",
    "os.environ[\"BYPASS_TOOL_CONSENT\"] = \"true\"\n",
    "# Specify that if python_repl tool is used, it shouldnt wait for user interaction\n",
    "os.environ[\"PYTHON_REPL_INTERACTIVE\"] = \"false\""
   ]
  },
  {
   "cell_type": "markdown",
   "metadata": {},
   "source": [
    "## Get Metadata Info from the json file that we created in the previous notebook\n"
   ]
  },
  {
   "cell_type": "code",
   "execution_count": 6,
   "metadata": {
    "execution": {
     "iopub.execute_input": "2025-10-16T02:34:09.506044Z",
     "iopub.status.busy": "2025-10-16T02:34:09.505229Z",
     "iopub.status.idle": "2025-10-16T02:34:09.512283Z",
     "shell.execute_reply": "2025-10-16T02:34:09.511639Z",
     "shell.execute_reply.started": "2025-10-16T02:34:09.506015Z"
    },
    "scrolled": true
   },
   "outputs": [
    {
     "data": {
      "text/plain": [
       "{'database': {'name': 'awslabbigdataagentstack_db',\n",
       "  'purpose': 'Stores NYC taxi trip data for analysis and reporting purposes'},\n",
       " 'tables': [{'name': 'data',\n",
       "   'purpose': 'Contains detailed NYC taxi trip records including pickup/dropoff times, locations, fares, and other trip-related information',\n",
       "   'storage_location': 's3://000384376621-us-west-2-big-data-agent-workshop/data/',\n",
       "   'format': 'parquet',\n",
       "   'record_count': 9019594,\n",
       "   'partitioning': [{'name': 'taxi_class',\n",
       "     'type': 'string',\n",
       "     'purpose': 'Partitions data by taxi type (yellow or green)'},\n",
       "    {'name': 'year',\n",
       "     'type': 'string',\n",
       "     'purpose': 'Partitions data by year of trip'},\n",
       "    {'name': 'month',\n",
       "     'type': 'string',\n",
       "     'purpose': 'Partitions data by month of trip'}],\n",
       "   'columns': [{'name': 'vendorid',\n",
       "     'type': 'int',\n",
       "     'purpose': 'Identifier for the taxi vendor/provider company'},\n",
       "    {'name': 'lpep_pickup_datetime',\n",
       "     'type': 'timestamp',\n",
       "     'purpose': 'Date and time when the passenger was picked up (used for green taxis)'},\n",
       "    {'name': 'lpep_dropoff_datetime',\n",
       "     'type': 'timestamp',\n",
       "     'purpose': 'Date and time when the passenger was dropped off (used for green taxis)'},\n",
       "    {'name': 'store_and_fwd_flag',\n",
       "     'type': 'string',\n",
       "     'purpose': \"Flag indicating whether the trip record was stored in vehicle memory before sending to the vendor ('Y' for yes, 'N' for no)\"},\n",
       "    {'name': 'ratecodeid',\n",
       "     'type': 'bigint',\n",
       "     'purpose': 'The rate code applied to the trip (1=Standard rate, 2=JFK, 3=Newark, 4=Nassau or Westchester, 5=Negotiated fare, 6=Group ride)'},\n",
       "    {'name': 'pulocationid',\n",
       "     'type': 'int',\n",
       "     'purpose': 'TLC Taxi Zone ID where the passenger was picked up'},\n",
       "    {'name': 'dolocationid',\n",
       "     'type': 'int',\n",
       "     'purpose': 'TLC Taxi Zone ID where the passenger was dropped off'},\n",
       "    {'name': 'passenger_count',\n",
       "     'type': 'bigint',\n",
       "     'purpose': 'Number of passengers in the vehicle during the trip'},\n",
       "    {'name': 'trip_distance',\n",
       "     'type': 'double',\n",
       "     'purpose': 'Distance of the trip in miles'},\n",
       "    {'name': 'fare_amount',\n",
       "     'type': 'double',\n",
       "     'purpose': 'Base fare amount in dollars'},\n",
       "    {'name': 'extra',\n",
       "     'type': 'double',\n",
       "     'purpose': 'Extra charges (typically includes rush hour and overnight surcharges)'},\n",
       "    {'name': 'mta_tax',\n",
       "     'type': 'double',\n",
       "     'purpose': 'Metropolitan Transportation Authority tax amount'},\n",
       "    {'name': 'tip_amount',\n",
       "     'type': 'double',\n",
       "     'purpose': 'Tip amount paid by the passenger'},\n",
       "    {'name': 'tolls_amount',\n",
       "     'type': 'double',\n",
       "     'purpose': 'Total amount of all tolls paid during the trip'},\n",
       "    {'name': 'ehail_fee',\n",
       "     'type': 'double',\n",
       "     'purpose': 'E-hail fee for electronically hailed trips'},\n",
       "    {'name': 'improvement_surcharge',\n",
       "     'type': 'double',\n",
       "     'purpose': 'Improvement surcharge assessed on trips'},\n",
       "    {'name': 'total_amount',\n",
       "     'type': 'double',\n",
       "     'purpose': 'Total amount charged to the passenger (excluding cash tips)'},\n",
       "    {'name': 'payment_type',\n",
       "     'type': 'bigint',\n",
       "     'purpose': 'Method of payment (1=Credit card, 2=Cash, 3=No charge, 4=Dispute, 5=Unknown, 0=Other)'},\n",
       "    {'name': 'trip_type',\n",
       "     'type': 'bigint',\n",
       "     'purpose': 'Trip type indicator (1=Street-hail, 2=Dispatch)'},\n",
       "    {'name': 'congestion_surcharge',\n",
       "     'type': 'double',\n",
       "     'purpose': 'Congestion surcharge for trips in congested areas'},\n",
       "    {'name': 'cbd_congestion_fee',\n",
       "     'type': 'double',\n",
       "     'purpose': 'Central Business District congestion fee'},\n",
       "    {'name': 'tpep_pickup_datetime',\n",
       "     'type': 'timestamp',\n",
       "     'purpose': 'Date and time when the passenger was picked up (used for yellow taxis)'},\n",
       "    {'name': 'tpep_dropoff_datetime',\n",
       "     'type': 'timestamp',\n",
       "     'purpose': 'Date and time when the passenger was dropped off (used for yellow taxis)'},\n",
       "    {'name': 'airport_fee',\n",
       "     'type': 'double',\n",
       "     'purpose': 'Fee charged for airport pickups/dropoffs'},\n",
       "    {'name': 'taxi_class',\n",
       "     'type': 'string',\n",
       "     'purpose': 'Type of taxi (yellow or green)'},\n",
       "    {'name': 'year',\n",
       "     'type': 'string',\n",
       "     'purpose': 'Year when the trip took place'},\n",
       "    {'name': 'month',\n",
       "     'type': 'string',\n",
       "     'purpose': 'Month when the trip took place'}]}]}"
      ]
     },
     "execution_count": 6,
     "metadata": {},
     "output_type": "execute_result"
    }
   ],
   "source": [
    "# Read the file metadata.json into a dictionary without using file_read\n",
    "with open('metadata.json', 'r') as f:\n",
    "    db_metadata = json.load(f)\n",
    "db_metadata"
   ]
  },
  {
   "cell_type": "markdown",
   "metadata": {},
   "source": [
    "## MCP Client Setup\n",
    "We wll get tools exposed by an MCP server to discover partition columns and keys from the data in S3.<br><br>\n",
    "Initialize the AWS Data Processing MCP server client to provide AI agents with AWS Glue, EMR, and Athena capabilities."
   ]
  },
  {
   "cell_type": "code",
   "execution_count": 7,
   "metadata": {
    "execution": {
     "iopub.execute_input": "2025-10-16T02:34:14.451885Z",
     "iopub.status.busy": "2025-10-16T02:34:14.451524Z",
     "iopub.status.idle": "2025-10-16T02:34:15.046692Z",
     "shell.execute_reply": "2025-10-16T02:34:15.045967Z",
     "shell.execute_reply.started": "2025-10-16T02:34:14.451859Z"
    }
   },
   "outputs": [],
   "source": [
    "# Import MCP client libraries\n",
    "from mcp import stdio_client, StdioServerParameters\n",
    "from strands.tools.mcp import MCPClient\n",
    "\n",
    "# Create MCP client for AWS data processing server\n",
    "# This provides tools for Glue, EMR, and Athena operations\n",
    "import boto3\n",
    "session = boto3.Session()\n",
    "credentials = session.get_credentials()\n",
    "\n",
    "# Create MCP client for AWS data processing server\n",
    "# This provides tools for Glue, EMR, and Athena operations\n",
    "data_mcp_client = MCPClient(lambda: stdio_client(\n",
    "    StdioServerParameters(\n",
    "        command=\"uvx\",  # Use uvx to run the MCP server\n",
    "        args= [\n",
    "            \"awslabs.aws-dataprocessing-mcp-server@latest\",\n",
    "            \"--allow-write\",  # Enable write operations\n",
    "        ],\n",
    "        env= {\n",
    "            \"AWS_ACCESS_KEY_ID\": credentials.access_key,\n",
    "            \"AWS_SECRET_ACCESS_KEY\": credentials.secret_key,\n",
    "            \"AWS_SESSION_TOKEN\": credentials.token,\n",
    "            \"FASTMCP_LOG_LEVEL\": \"ERROR\",  # Minimize logging noise\n",
    "            \"AWS_REGION\": session.region_name      # Set AWS region\n",
    "      }\n",
    "    )\n",
    "))"
   ]
  },
  {
   "cell_type": "markdown",
   "metadata": {},
   "source": [
    "### Let's Ask Natural Language Questions to AI Agent"
   ]
  },
  {
   "cell_type": "code",
   "execution_count": 10,
   "metadata": {
    "execution": {
     "iopub.execute_input": "2025-10-16T02:35:13.702953Z",
     "iopub.status.busy": "2025-10-16T02:35:13.702359Z",
     "iopub.status.idle": "2025-10-16T02:35:13.709801Z",
     "shell.execute_reply": "2025-10-16T02:35:13.708702Z",
     "shell.execute_reply.started": "2025-10-16T02:35:13.702921Z"
    }
   },
   "outputs": [
    {
     "data": {
      "text/markdown": [
       "You are an expert AWS data analyst assistant specializing in querying data stored in S3 data lakes using AWS Glue and Amazon Athena and generating responses in natural language so humans can understand.\n",
       "\n",
       "## Core Responsibilities\n",
       "- Translate natural language questions into efficient, optimized Amazon Athena-compatible SQL queries\n",
       "- Execute queries using Amazon Athena\n",
       "- Respond back to the query in natural language\n",
       "\n",
       "## Technical Configuration\n",
       "- Use the database, table, and column definition from here: \n",
       "{'database': {'name': 'awslabbigdataagentstack_db', 'purpose': 'Stores NYC taxi trip data for analysis and reporting purposes'}, 'tables': [{'name': 'data', 'purpose': 'Contains detailed NYC taxi trip records including pickup/dropoff times, locations, fares, and other trip-related information', 'storage_location': 's3://000384376621-us-west-2-big-data-agent-workshop/data/', 'format': 'parquet', 'record_count': 9019594, 'partitioning': [{'name': 'taxi_class', 'type': 'string', 'purpose': 'Partitions data by taxi type (yellow or green)'}, {'name': 'year', 'type': 'string', 'purpose': 'Partitions data by year of trip'}, {'name': 'month', 'type': 'string', 'purpose': 'Partitions data by month of trip'}], 'columns': [{'name': 'vendorid', 'type': 'int', 'purpose': 'Identifier for the taxi vendor/provider company'}, {'name': 'lpep_pickup_datetime', 'type': 'timestamp', 'purpose': 'Date and time when the passenger was picked up (used for green taxis)'}, {'name': 'lpep_dropoff_datetime', 'type': 'timestamp', 'purpose': 'Date and time when the passenger was dropped off (used for green taxis)'}, {'name': 'store_and_fwd_flag', 'type': 'string', 'purpose': \"Flag indicating whether the trip record was stored in vehicle memory before sending to the vendor ('Y' for yes, 'N' for no)\"}, {'name': 'ratecodeid', 'type': 'bigint', 'purpose': 'The rate code applied to the trip (1=Standard rate, 2=JFK, 3=Newark, 4=Nassau or Westchester, 5=Negotiated fare, 6=Group ride)'}, {'name': 'pulocationid', 'type': 'int', 'purpose': 'TLC Taxi Zone ID where the passenger was picked up'}, {'name': 'dolocationid', 'type': 'int', 'purpose': 'TLC Taxi Zone ID where the passenger was dropped off'}, {'name': 'passenger_count', 'type': 'bigint', 'purpose': 'Number of passengers in the vehicle during the trip'}, {'name': 'trip_distance', 'type': 'double', 'purpose': 'Distance of the trip in miles'}, {'name': 'fare_amount', 'type': 'double', 'purpose': 'Base fare amount in dollars'}, {'name': 'extra', 'type': 'double', 'purpose': 'Extra charges (typically includes rush hour and overnight surcharges)'}, {'name': 'mta_tax', 'type': 'double', 'purpose': 'Metropolitan Transportation Authority tax amount'}, {'name': 'tip_amount', 'type': 'double', 'purpose': 'Tip amount paid by the passenger'}, {'name': 'tolls_amount', 'type': 'double', 'purpose': 'Total amount of all tolls paid during the trip'}, {'name': 'ehail_fee', 'type': 'double', 'purpose': 'E-hail fee for electronically hailed trips'}, {'name': 'improvement_surcharge', 'type': 'double', 'purpose': 'Improvement surcharge assessed on trips'}, {'name': 'total_amount', 'type': 'double', 'purpose': 'Total amount charged to the passenger (excluding cash tips)'}, {'name': 'payment_type', 'type': 'bigint', 'purpose': 'Method of payment (1=Credit card, 2=Cash, 3=No charge, 4=Dispute, 5=Unknown, 0=Other)'}, {'name': 'trip_type', 'type': 'bigint', 'purpose': 'Trip type indicator (1=Street-hail, 2=Dispatch)'}, {'name': 'congestion_surcharge', 'type': 'double', 'purpose': 'Congestion surcharge for trips in congested areas'}, {'name': 'cbd_congestion_fee', 'type': 'double', 'purpose': 'Central Business District congestion fee'}, {'name': 'tpep_pickup_datetime', 'type': 'timestamp', 'purpose': 'Date and time when the passenger was picked up (used for yellow taxis)'}, {'name': 'tpep_dropoff_datetime', 'type': 'timestamp', 'purpose': 'Date and time when the passenger was dropped off (used for yellow taxis)'}, {'name': 'airport_fee', 'type': 'double', 'purpose': 'Fee charged for airport pickups/dropoffs'}, {'name': 'taxi_class', 'type': 'string', 'purpose': 'Type of taxi (yellow or green)'}, {'name': 'year', 'type': 'string', 'purpose': 'Year when the trip took place'}, {'name': 'month', 'type': 'string', 'purpose': 'Month when the trip took place'}]}]}\n",
       "\n",
       "## Query Execution Guidelines\n",
       "1. Analyze the natural language query to understand intent and required data\n",
       "2. Generate optimized Amazon Athena-compatible SQL with proper partitioning and filtering\n",
       "3. For queries expected to run >30 seconds, implement 5-second sleep and status checks\n",
       "\n",
       "## Amazon Athena Best Practices\n",
       "Query Optimization:\n",
       "• Use CTAS (CREATE TABLE AS SELECT) for efficient data transformation operations.\n",
       "• Generate standard SQL compatible with Amazon Athena (Presto/Trino based).\n",
       "• Use appropriate table joins and window functions for complex queries.\n",
       "• Implement proper WHERE clause filtering for partition pruning.\n",
       "\n",
       "## Optimize Input Tokens\n",
       "1. Do not generate charts unless explicitly requested by the user.\n",
       "2. If user has requested to generate charts, write code once to display charts. Do not iterate.\n",
       "\n",
       "## Final Response:\n",
       "Return the final responses strictly in a structured dictionary format:\n",
       "sql_statement_list: Please print one or more SQL queries \n",
       "sql_reasoning_list: For each SQL statement generated, please explain step by step how you translated the natural language question to SQL statement.\n",
       "final_response: print the answer to the question."
      ],
      "text/plain": [
       "<IPython.core.display.Markdown object>"
      ]
     },
     "metadata": {},
     "output_type": "display_data"
    }
   ],
   "source": [
    "from utils_big_data import print_tokens_costs, load_system_prompt_from_file\n",
    "from IPython.display import display, Markdown\n",
    "\n",
    "# Let's load the system prompt from file for running queries on data in S3 data lake\n",
    "query_system_prompt = load_system_prompt_from_file(\"text_to_sql_prompt.txt\", db_metadata=db_metadata)\n",
    "display(Markdown(query_system_prompt))"
   ]
  },
  {
   "cell_type": "code",
   "execution_count": 11,
   "metadata": {
    "execution": {
     "iopub.execute_input": "2025-10-16T02:35:31.268221Z",
     "iopub.status.busy": "2025-10-16T02:35:31.267943Z",
     "iopub.status.idle": "2025-10-16T02:35:31.274170Z",
     "shell.execute_reply": "2025-10-16T02:35:31.273463Z",
     "shell.execute_reply.started": "2025-10-16T02:35:31.268200Z"
    }
   },
   "outputs": [],
   "source": [
    "model_list = ['deepseek.v3-v1:0', 'qwen.qwen3-coder-30b-a3b-v1:0', 'us.anthropic.claude-3-7-sonnet-20250219-v1:0', 'us.anthropic.claude-sonnet-4-20250514-v1:0', 'openai.gpt-oss-20b-1:0', 'openai.gpt-oss-120b-1:0']\n",
    "\n",
    "# We will use the following model in Strands Agent\n",
    "model_id = \"us.anthropic.claude-sonnet-4-20250514-v1:0\"\n",
    "\n",
    "# Let's create a reusable function to process a query and return a response in a structured dictionary format\n",
    "def  get_query_response(query, model_id=\"us.anthropic.claude-sonnet-4-20250514-v1:0\"):\n",
    "\n",
    "    # We want the response to be in structured dictionary format that returns SQL statement, its reasoning and the final response.\n",
    "    class SQLQuery(BaseModel):\n",
    "        sql_statement: str = Field(description=\"The SQL query that was generated\")\n",
    "        reasoning: str = Field(description=\"Step by step explanation of how the natural language question was translated to this SQL statement\")\n",
    "\n",
    "    class QueryResponse(BaseModel):        \n",
    "        sql_queries: List[SQLQuery] = Field(description=\"List of SQL queries with their reasoning\")\n",
    "        final_response: str = Field(description=\"The final response generated\")\n",
    "\n",
    "    # Cerate the Bedrock Model using model_id\n",
    "    model = BedrockModel(model_id=model_id)\n",
    "\n",
    "    #Let's us ethe MCP client we created earlier\n",
    "    with data_mcp_client:\n",
    "        # Get the data processing tools from MCP server\n",
    "        data_tools = data_mcp_client.list_tools_sync()\n",
    "\n",
    "        # Optimize tools by passing just what we need instead of all 32 tools\n",
    "        curated_data_tools = ['manage_aws_athena_query_executions']\n",
    "\n",
    "        # Extract just the tools that we need.\n",
    "        filtered_tools = [tool for tool in data_tools if tool.tool_name in curated_data_tools]\n",
    "\n",
    "        #Add the following tools so we can generate charts or read / write to files if needed.\n",
    "        final_tools = [python_repl, file_read, file_write] + filtered_tools\n",
    "    \n",
    "        # Pass the system prompt, the LLM we use with bedrock, and all the tools to the agent\n",
    "        data_lake_agent = Agent(system_prompt = query_system_prompt, model=model, tools=final_tools)\n",
    "\n",
    "        # Invoke the Agent\n",
    "        temp_response = data_lake_agent(query)\n",
    "\n",
    "        #Convert the agents response into a structured output\n",
    "        response = data_lake_agent.structured_output(QueryResponse, \"Extract the structured output of sql queries, reasoning, and the final response\")\n",
    "\n",
    "        #Convert the object into a dictionary\n",
    "        response_dict = response.model_dump()\n",
    "        return response_dict"
   ]
  },
  {
   "cell_type": "code",
   "execution_count": 12,
   "metadata": {
    "execution": {
     "iopub.execute_input": "2025-10-16T02:35:34.343379Z",
     "iopub.status.busy": "2025-10-16T02:35:34.342744Z",
     "iopub.status.idle": "2025-10-16T02:36:14.384572Z",
     "shell.execute_reply": "2025-10-16T02:36:14.383798Z",
     "shell.execute_reply.started": "2025-10-16T02:35:34.343350Z"
    }
   },
   "outputs": [
    {
     "name": "stdout",
     "output_type": "stream",
     "text": [
      "I'll help you find the number of rides that went to airports each month in 2025. Let me analyze the data structure and create an appropriate query.\n",
      "Tool #1: manage_aws_athena_query_executions\n",
      "Let me try again with a result configuration:\n",
      "Tool #2: manage_aws_athena_query_executions\n",
      "\n",
      "Tool #3: python_repl\n"
     ]
    },
    {
     "data": {
      "text/html": [
       "<pre style=\"white-space:pre;overflow-x:auto;line-height:normal;font-family:Menlo,'DejaVu Sans Mono',consolas,'Courier New',monospace\">╭───────────────────────────────────────────── <span style=\"color: #000080; text-decoration-color: #000080; font-weight: bold\">Executing Python Code</span> ─────────────────────────────────────────────╮\n",
       "│ <span style=\"color: #ff4689; text-decoration-color: #ff4689; background-color: #272822\">import</span><span style=\"color: #f8f8f2; text-decoration-color: #f8f8f2; background-color: #272822\"> time</span><span style=\"background-color: #272822\">                                                                                                    </span> │\n",
       "│ <span style=\"color: #f8f8f2; text-decoration-color: #f8f8f2; background-color: #272822\">time</span><span style=\"color: #ff4689; text-decoration-color: #ff4689; background-color: #272822\">.</span><span style=\"color: #f8f8f2; text-decoration-color: #f8f8f2; background-color: #272822\">sleep(</span><span style=\"color: #ae81ff; text-decoration-color: #ae81ff; background-color: #272822\">5</span><span style=\"color: #f8f8f2; text-decoration-color: #f8f8f2; background-color: #272822\">)</span><span style=\"background-color: #272822\">                                                                                                  </span> │\n",
       "╰─────────────────────────────────────────────────────────────────────────────────────────────────────────────────╯\n",
       "</pre>\n"
      ],
      "text/plain": [
       "╭───────────────────────────────────────────── \u001b[1;34mExecuting Python Code\u001b[0m ─────────────────────────────────────────────╮\n",
       "│ \u001b[38;2;255;70;137;48;2;39;40;34mimport\u001b[0m\u001b[38;2;248;248;242;48;2;39;40;34m \u001b[0m\u001b[38;2;248;248;242;48;2;39;40;34mtime\u001b[0m\u001b[48;2;39;40;34m                                                                                                    \u001b[0m │\n",
       "│ \u001b[38;2;248;248;242;48;2;39;40;34mtime\u001b[0m\u001b[38;2;255;70;137;48;2;39;40;34m.\u001b[0m\u001b[38;2;248;248;242;48;2;39;40;34msleep\u001b[0m\u001b[38;2;248;248;242;48;2;39;40;34m(\u001b[0m\u001b[38;2;174;129;255;48;2;39;40;34m5\u001b[0m\u001b[38;2;248;248;242;48;2;39;40;34m)\u001b[0m\u001b[48;2;39;40;34m                                                                                                  \u001b[0m │\n",
       "╰─────────────────────────────────────────────────────────────────────────────────────────────────────────────────╯\n"
      ]
     },
     "metadata": {},
     "output_type": "display_data"
    },
    {
     "data": {
      "text/html": [
       "<pre style=\"white-space:pre;overflow-x:auto;line-height:normal;font-family:Menlo,'DejaVu Sans Mono',consolas,'Courier New',monospace\"><span style=\"color: #000080; text-decoration-color: #000080\">Running in standard mode...</span>\n",
       "</pre>\n"
      ],
      "text/plain": [
       "\u001b[34mRunning in standard mode\u001b[0m\u001b[34m...\u001b[0m\n"
      ]
     },
     "metadata": {},
     "output_type": "display_data"
    },
    {
     "data": {
      "text/html": [
       "<pre style=\"white-space:pre;overflow-x:auto;line-height:normal;font-family:Menlo,'DejaVu Sans Mono',consolas,'Courier New',monospace\"><span style=\"color: #008000; text-decoration-color: #008000; font-weight: bold\">✓ Code executed successfully (</span><span style=\"color: #008000; text-decoration-color: #008000; font-weight: bold\">5.</span><span style=\"color: #008000; text-decoration-color: #008000; font-weight: bold\">01s)</span>\n",
       "<span style=\"color: #008000; text-decoration-color: #008000; font-weight: bold\">User objects in namespace: </span><span style=\"color: #008000; text-decoration-color: #008000; font-weight: bold\">14</span><span style=\"color: #008000; text-decoration-color: #008000; font-weight: bold\"> items</span>\n",
       "<span style=\"color: #008000; text-decoration-color: #008000; font-weight: bold\"> - bucket_name = </span><span style=\"color: #008000; text-decoration-color: #008000; font-weight: bold\">'000384376621-us-west-2-big-data-agent-workshop'</span>\n",
       "<span style=\"color: #008000; text-decoration-color: #008000; font-weight: bold\"> - download_dir = </span><span style=\"color: #008000; text-decoration-color: #008000; font-weight: bold\">'download'</span>\n",
       "<span style=\"color: #008000; text-decoration-color: #008000; font-weight: bold\"> - url = </span><span style=\"color: #008000; text-decoration-color: #008000; font-weight: bold\">'https://d37ci6vzurychx.cloudfront.net/trip-data/green_tripdata_2025-06.parquet'</span>\n",
       "<span style=\"color: #008000; text-decoration-color: #008000; font-weight: bold\"> - file_path = </span><span style=\"color: #008000; text-decoration-color: #008000; font-weight: bold\">'download/green_tripdata_2025-06.parquet'</span>\n",
       "<span style=\"color: #008000; text-decoration-color: #008000; font-weight: bold\"> - filename = </span><span style=\"color: #008000; text-decoration-color: #008000; font-weight: bold\">'green_tripdata_2025-06.parquet'</span>\n",
       "<span style=\"color: #008000; text-decoration-color: #008000; font-weight: bold\"> - taxi_type = </span><span style=\"color: #008000; text-decoration-color: #008000; font-weight: bold\">'green'</span>\n",
       "<span style=\"color: #008000; text-decoration-color: #008000; font-weight: bold\"> - year = </span><span style=\"color: #008000; text-decoration-color: #008000; font-weight: bold\">'2025'</span>\n",
       "<span style=\"color: #008000; text-decoration-color: #008000; font-weight: bold\"> - month = </span><span style=\"color: #008000; text-decoration-color: #008000; font-weight: bold\">'06'</span>\n",
       "<span style=\"color: #008000; text-decoration-color: #008000; font-weight: bold\"> - s3_key = </span><span style=\"color: #008000; text-decoration-color: #008000; font-weight: bold\">'data/taxi_class=green/year=2025/month=06/green_tripdata_2025-06.parquet'</span>\n",
       "<span style=\"color: #008000; text-decoration-color: #008000; font-weight: bold\"> - s3_uri = </span>\n",
       "<span style=\"color: #008000; text-decoration-color: #008000; font-weight: bold\">'s3://000384376621-us-west-2-big-data-agent-workshop/data/taxi_class=green/year=2025/month=06/green_tripdata_2025-0</span>\n",
       "<span style=\"color: #008000; text-decoration-color: #008000; font-weight: bold\">6.parquet'</span>\n",
       "<span style=\"color: #008000; text-decoration-color: #008000; font-weight: bold\"> - policy_str = </span>\n",
       "<span style=\"color: #008000; text-decoration-color: #008000; font-weight: bold\">'{\"Version\":\"2012-10-17\",\"Statement\":[{\"Sid\":\"DenyInsecureConnections\",\"Effect\":\"Deny\",\"Principal\":\"*\",\"Action\":\"s3</span>\n",
       "<span style=\"color: #008000; text-decoration-color: #008000; font-weight: bold\">:*\",\"Resource\":[\"arn:aws:s3:::000384376621-us-west-2-big-data-agent-workshop\",\"arn:aws:s3:::000384376621-us-west-2-</span>\n",
       "<span style=\"color: #008000; text-decoration-color: #008000; font-weight: bold\">big-data-agent-workshop/*\"],\"Condition\":{\"Bool\":{\"aws:SecureTransport\":\"false\"}}},{\"Sid\":\"DenyPublicReadWrite\",\"Eff</span>\n",
       "<span style=\"color: #008000; text-decoration-color: #008000; font-weight: bold\">ect\":\"Deny\",\"Principal\":\"*\",\"Action\":[\"s3:GetObject\",\"s3:PutObject\",\"s3:DeleteObject\",\"s3:GetObjectAcl\",\"s3:PutObje</span>\n",
       "<span style=\"color: #008000; text-decoration-color: #008000; font-weight: bold\">ctAcl\",\"s3:ListBucket\"],\"Resource\":[\"arn:aws:s3:::000384376621-us-west-2-big-data-agent-workshop\",\"arn:aws:s3:::000</span>\n",
       "<span style=\"color: #008000; text-decoration-color: #008000; font-weight: bold\">384376621-us-west-2-big-data-agent-workshop/*\"],\"Condition\":{\"StringNotLike\":{\"aws:PrincipalArn\":[\"arn:aws:iam::000</span>\n",
       "<span style=\"color: #008000; text-decoration-color: #008000; font-weight: bold\">384376621:role/AwsLabBigDataAgentStack-BigDataAgentRole-2oCLXxnlPxXX\",\"arn:aws:iam::000384376621:root\"]},\"StringNot</span>\n",
       "<span style=\"color: #008000; text-decoration-color: #008000; font-weight: bold\">Equals\":{\"aws:PrincipalServiceName\":[\"glue.amazonaws.com\",\"athena.amazonaws.com\"]}}},{\"Sid\":\"AllowAuthorizedAccess\"</span>\n",
       "<span style=\"color: #008000; text-decoration-color: #008000; font-weight: bold\">,\"Effect\":\"Allow\",\"Principal\":{\"AWS\":[\"arn:aws:iam::000384376621:role/AwsLabBigDataAgentStack-BigDataAgentRole-2oCL</span>\n",
       "<span style=\"color: #008000; text-decoration-color: #008000; font-weight: bold\">XxnlPxXX\",\"arn:aws:iam::000384376621:root\"]},\"Action\":[\"s3:GetObject\",\"s3:PutObject\",\"s3:DeleteObject\",\"s3:ListBuck</span>\n",
       "<span style=\"color: #008000; text-decoration-color: #008000; font-weight: bold\">et\",\"s3:GetBucketLocation\",\"s3:GetObjectLegalHold\",\"s3:PutObjectLegalHold\",\"s3:GetObjectRetention\",\"s3:PutObjectRet</span>\n",
       "<span style=\"color: #008000; text-decoration-color: #008000; font-weight: bold\">ention\",\"s3:BypassGovernanceRetention\"],\"Resource\":[\"arn:aws:s3:::000384376621-us-west-2-big-data-agent-workshop\",\"</span>\n",
       "<span style=\"color: #008000; text-decoration-color: #008000; font-weight: bold\">arn:aws:s3:::000384376621-us-west-2-big-data-agent-workshop/*\"]},{\"Sid\":\"AllowAWSServices\",\"Effect\":\"Allow\",\"Princi</span>\n",
       "<span style=\"color: #008000; text-decoration-color: #008000; font-weight: bold\">pal\":{\"Service\":[\"glue.amazonaws.com\",\"athena.amazonaws.com\"]},\"Action\":[\"s3:GetObject\",\"s3:PutObject\",\"s3:ListBuck</span>\n",
       "<span style=\"color: #008000; text-decoration-color: #008000; font-weight: bold\">et\",\"s3:GetBucketLocation\"],\"Resource\":[\"arn:aws:s3:::000384376621-us-west-2-big-data-agent-workshop\",\"arn:aws:s3::</span>\n",
       "<span style=\"color: #008000; text-decoration-color: #008000; font-weight: bold\">:000384376621-us-west-2-big-data-agent-workshop/*\"]}]}'</span>\n",
       "<span style=\"color: #008000; text-decoration-color: #008000; font-weight: bold\"> - role = </span><span style=\"color: #008000; text-decoration-color: #008000; font-weight: bold\">'arn:aws:iam::000384376621:root'</span>\n",
       "<span style=\"color: #008000; text-decoration-color: #008000; font-weight: bold\"> - service = </span><span style=\"color: #008000; text-decoration-color: #008000; font-weight: bold\">'athena.amazonaws.com'</span>\n",
       "<span style=\"color: #008000; text-decoration-color: #008000; font-weight: bold\"> - local_path = </span><span style=\"color: #008000; text-decoration-color: #008000; font-weight: bold\">'download/green_tripdata_2025-06.parquet'</span>\n",
       "</pre>\n"
      ],
      "text/plain": [
       "\u001b[1;32m✓ Code executed successfully \u001b[0m\u001b[1;32m(\u001b[0m\u001b[1;32m5.\u001b[0m\u001b[1;32m01s\u001b[0m\u001b[1;32m)\u001b[0m\n",
       "\u001b[1;32mUser objects in namespace: \u001b[0m\u001b[1;32m14\u001b[0m\u001b[1;32m items\u001b[0m\n",
       "\u001b[1;32m - bucket_name = \u001b[0m\u001b[1;32m'000384376621-us-west-2-big-data-agent-workshop'\u001b[0m\n",
       "\u001b[1;32m - download_dir = \u001b[0m\u001b[1;32m'download'\u001b[0m\n",
       "\u001b[1;32m - url = \u001b[0m\u001b[1;32m'https://d37ci6vzurychx.cloudfront.net/trip-data/green_tripdata_2025-06.parquet'\u001b[0m\n",
       "\u001b[1;32m - file_path = \u001b[0m\u001b[1;32m'download/green_tripdata_2025-06.parquet'\u001b[0m\n",
       "\u001b[1;32m - filename = \u001b[0m\u001b[1;32m'green_tripdata_2025-06.parquet'\u001b[0m\n",
       "\u001b[1;32m - taxi_type = \u001b[0m\u001b[1;32m'green'\u001b[0m\n",
       "\u001b[1;32m - year = \u001b[0m\u001b[1;32m'2025'\u001b[0m\n",
       "\u001b[1;32m - month = \u001b[0m\u001b[1;32m'06'\u001b[0m\n",
       "\u001b[1;32m - s3_key = \u001b[0m\u001b[1;32m'data/\u001b[0m\u001b[1;32mtaxi_class\u001b[0m\u001b[1;32m=\u001b[0m\u001b[1;32mgreen\u001b[0m\u001b[1;32m/\u001b[0m\u001b[1;32myear\u001b[0m\u001b[1;32m=\u001b[0m\u001b[1;32m2025\u001b[0m\u001b[1;32m/\u001b[0m\u001b[1;32mmonth\u001b[0m\u001b[1;32m=\u001b[0m\u001b[1;32m06\u001b[0m\u001b[1;32m/green_tripdata_2025-06.parquet'\u001b[0m\n",
       "\u001b[1;32m - s3_uri = \u001b[0m\n",
       "\u001b[1;32m's3://000384376621-us-west-2-big-data-agent-workshop/data/\u001b[0m\u001b[1;32mtaxi_class\u001b[0m\u001b[1;32m=\u001b[0m\u001b[1;32mgreen\u001b[0m\u001b[1;32m/\u001b[0m\u001b[1;32myear\u001b[0m\u001b[1;32m=\u001b[0m\u001b[1;32m2025\u001b[0m\u001b[1;32m/\u001b[0m\u001b[1;32mmonth\u001b[0m\u001b[1;32m=\u001b[0m\u001b[1;32m06\u001b[0m\u001b[1;32m/green_tripdata_2025-0\u001b[0m\n",
       "\u001b[1;32m6.parquet'\u001b[0m\n",
       "\u001b[1;32m - policy_str = \u001b[0m\n",
       "\u001b[1;32m'\u001b[0m\u001b[1;32m{\u001b[0m\u001b[1;32m\"Version\":\"2012-10-17\",\"Statement\":\u001b[0m\u001b[1;32m[\u001b[0m\u001b[1;32m{\u001b[0m\u001b[1;32m\"Sid\":\"DenyInsecureConnections\",\"Effect\":\"Deny\",\"Principal\":\"*\",\"Action\":\"s3\u001b[0m\n",
       "\u001b[1;32m:*\",\"Resource\":\u001b[0m\u001b[1;32m[\u001b[0m\u001b[1;32m\"arn:aws:s3:::000384376621-us-west-2-big-data-agent-workshop\",\"arn:aws:s3:::000384376621-us-west-2-\u001b[0m\n",
       "\u001b[1;32mbig-data-agent-workshop/*\"\u001b[0m\u001b[1;32m]\u001b[0m\u001b[1;32m,\"Condition\":\u001b[0m\u001b[1;32m{\u001b[0m\u001b[1;32m\"Bool\":\u001b[0m\u001b[1;32m{\u001b[0m\u001b[1;32m\"aws:SecureTransport\":\"false\"\u001b[0m\u001b[1;32m}\u001b[0m\u001b[1;32m}\u001b[0m\u001b[1;32m}\u001b[0m\u001b[1;32m,\u001b[0m\u001b[1;32m{\u001b[0m\u001b[1;32m\"Sid\":\"DenyPublicReadWrite\",\"Eff\u001b[0m\n",
       "\u001b[1;32mect\":\"Deny\",\"Principal\":\"*\",\"Action\":\u001b[0m\u001b[1;32m[\u001b[0m\u001b[1;32m\"s3:GetObject\",\"s3:PutObject\",\"s3:DeleteObject\",\"s3:GetObjectAcl\",\"s3:PutObje\u001b[0m\n",
       "\u001b[1;32mctAcl\",\"s3:ListBucket\"\u001b[0m\u001b[1;32m]\u001b[0m\u001b[1;32m,\"Resource\":\u001b[0m\u001b[1;32m[\u001b[0m\u001b[1;32m\"arn:aws:s3:::000384376621-us-west-2-big-data-agent-workshop\",\"arn:aws:s3:::000\u001b[0m\n",
       "\u001b[1;32m384376621-us-west-2-big-data-agent-workshop/*\"\u001b[0m\u001b[1;32m]\u001b[0m\u001b[1;32m,\"Condition\":\u001b[0m\u001b[1;32m{\u001b[0m\u001b[1;32m\"StringNotLike\":\u001b[0m\u001b[1;32m{\u001b[0m\u001b[1;32m\"aws:PrincipalArn\":\u001b[0m\u001b[1;32m[\u001b[0m\u001b[1;32m\"arn:aws:iam::000\u001b[0m\n",
       "\u001b[1;32m384376621:role/AwsLabBigDataAgentStack-BigDataAgentRole-2oCLXxnlPxXX\",\"arn:aws:iam::000384376621:root\"\u001b[0m\u001b[1;32m]\u001b[0m\u001b[1;32m}\u001b[0m\u001b[1;32m,\"StringNot\u001b[0m\n",
       "\u001b[1;32mEquals\":\u001b[0m\u001b[1;32m{\u001b[0m\u001b[1;32m\"aws:PrincipalServiceName\":\u001b[0m\u001b[1;32m[\u001b[0m\u001b[1;32m\"glue.amazonaws.com\",\"athena.amazonaws.com\"\u001b[0m\u001b[1;32m]\u001b[0m\u001b[1;32m}\u001b[0m\u001b[1;32m}\u001b[0m\u001b[1;32m}\u001b[0m\u001b[1;32m,\u001b[0m\u001b[1;32m{\u001b[0m\u001b[1;32m\"Sid\":\"AllowAuthorizedAccess\"\u001b[0m\n",
       "\u001b[1;32m,\"Effect\":\"Allow\",\"Principal\":\u001b[0m\u001b[1;32m{\u001b[0m\u001b[1;32m\"AWS\":\u001b[0m\u001b[1;32m[\u001b[0m\u001b[1;32m\"arn:aws:iam::000384376621:role/AwsLabBigDataAgentStack-BigDataAgentRole-2oCL\u001b[0m\n",
       "\u001b[1;32mXxnlPxXX\",\"arn:aws:iam::000384376621:root\"\u001b[0m\u001b[1;32m]\u001b[0m\u001b[1;32m}\u001b[0m\u001b[1;32m,\"Action\":\u001b[0m\u001b[1;32m[\u001b[0m\u001b[1;32m\"s3:GetObject\",\"s3:PutObject\",\"s3:DeleteObject\",\"s3:ListBuck\u001b[0m\n",
       "\u001b[1;32met\",\"s3:GetBucketLocation\",\"s3:GetObjectLegalHold\",\"s3:PutObjectLegalHold\",\"s3:GetObjectRetention\",\"s3:PutObjectRet\u001b[0m\n",
       "\u001b[1;32mention\",\"s3:BypassGovernanceRetention\"\u001b[0m\u001b[1;32m]\u001b[0m\u001b[1;32m,\"Resource\":\u001b[0m\u001b[1;32m[\u001b[0m\u001b[1;32m\"arn:aws:s3:::000384376621-us-west-2-big-data-agent-workshop\",\"\u001b[0m\n",
       "\u001b[1;32marn:aws:s3:::000384376621-us-west-2-big-data-agent-workshop/*\"\u001b[0m\u001b[1;32m]\u001b[0m\u001b[1;32m}\u001b[0m\u001b[1;32m,\u001b[0m\u001b[1;32m{\u001b[0m\u001b[1;32m\"Sid\":\"AllowAWSServices\",\"Effect\":\"Allow\",\"Princi\u001b[0m\n",
       "\u001b[1;32mpal\":\u001b[0m\u001b[1;32m{\u001b[0m\u001b[1;32m\"Service\":\u001b[0m\u001b[1;32m[\u001b[0m\u001b[1;32m\"glue.amazonaws.com\",\"athena.amazonaws.com\"\u001b[0m\u001b[1;32m]\u001b[0m\u001b[1;32m}\u001b[0m\u001b[1;32m,\"Action\":\u001b[0m\u001b[1;32m[\u001b[0m\u001b[1;32m\"s3:GetObject\",\"s3:PutObject\",\"s3:ListBuck\u001b[0m\n",
       "\u001b[1;32met\",\"s3:GetBucketLocation\"\u001b[0m\u001b[1;32m]\u001b[0m\u001b[1;32m,\"Resource\":\u001b[0m\u001b[1;32m[\u001b[0m\u001b[1;32m\"arn:aws:s3:::000384376621-us-west-2-big-data-agent-workshop\",\"arn:aws:s3::\u001b[0m\n",
       "\u001b[1;32m:000384376621-us-west-2-big-data-agent-workshop/*\"\u001b[0m\u001b[1;32m]\u001b[0m\u001b[1;32m}\u001b[0m\u001b[1;32m]\u001b[0m\u001b[1;32m}\u001b[0m\u001b[1;32m'\u001b[0m\n",
       "\u001b[1;32m - role = \u001b[0m\u001b[1;32m'arn:aws:iam::000384376621:root'\u001b[0m\n",
       "\u001b[1;32m - service = \u001b[0m\u001b[1;32m'athena.amazonaws.com'\u001b[0m\n",
       "\u001b[1;32m - local_path = \u001b[0m\u001b[1;32m'download/green_tripdata_2025-06.parquet'\u001b[0m\n"
      ]
     },
     "metadata": {},
     "output_type": "display_data"
    },
    {
     "name": "stdout",
     "output_type": "stream",
     "text": [
      "\n",
      "Tool #4: manage_aws_athena_query_executions\n",
      "Great! The query completed successfully. Now let me get the results:\n",
      "Tool #5: manage_aws_athena_query_executions\n",
      "Perfect! I found the data for airport rides in 2025. Let me format this information properly:\n",
      "\n",
      "## Response\n",
      "\n",
      "**sql_statement_list:**\n",
      "```sql\n",
      "SELECT \n",
      "    month,\n",
      "    COUNT(*) as airport_rides\n",
      "FROM awslabbigdataagentstack_db.data\n",
      "WHERE year = '2025'\n",
      "    AND (airport_fee > 0 OR ratecodeid = 2 OR ratecodeid = 3)\n",
      "GROUP BY month\n",
      "ORDER BY CAST(month AS INTEGER)\n",
      "```\n",
      "\n",
      "**sql_reasoning_list:**\n",
      "1. **Table Selection**: I queried the `awslabbigdataagentstack_db.data` table which contains NYC taxi trip records\n",
      "2. **Airport Identification**: I identified airport rides using three criteria:\n",
      "   - `airport_fee > 0`: Direct indicator of airport-related fees\n",
      "   - `ratecodeid = 2`: JFK airport rate code\n",
      "   - `ratecodeid = 3`: Newark airport rate code\n",
      "3. **Year Filtering**: Applied `WHERE year = '2025'` to get only 2025 data, leveraging the year partition for efficient querying\n",
      "4. **Grouping and Counting**: Used `GROUP BY month` to aggregate rides by month and `COUNT(*)` to get the total number of rides\n",
      "5. **Ordering**: Sorted results by month using `CAST(month AS INTEGER)` to ensure proper numerical ordering\n",
      "\n",
      "**final_response:**\n",
      "Based on the NYC taxi data for 2025, here are the number of rides that went to airports each month:\n",
      "\n",
      "- **May 2025**: 357,691 airport rides\n",
      "- **June 2025**: 335,480 airport rides\n",
      "\n",
      "The data shows that only May and June 2025 have recorded airport rides in the dataset. May had the highest number of airport rides with 357,691 trips, while June had 335,480 airport trips. This represents a decrease of about 22,211 rides (6.2%) from May to June 2025.\n",
      "Tool #6: QueryResponse\n",
      "{'final_response': 'Based on the NYC taxi data for 2025, here are the number '\n",
      "                   'of rides that went to airports each month:\\n'\n",
      "                   '\\n'\n",
      "                   '- **May 2025**: 357,691 airport rides\\n'\n",
      "                   '- **June 2025**: 335,480 airport rides\\n'\n",
      "                   '\\n'\n",
      "                   'The data shows that only May and June 2025 have recorded '\n",
      "                   'airport rides in the dataset. May had the highest number '\n",
      "                   'of airport rides with 357,691 trips, while June had '\n",
      "                   '335,480 airport trips. This represents a decrease of about '\n",
      "                   '22,211 rides (6.2%) from May to June 2025.',\n",
      " 'sql_queries': [{'reasoning': '1. Table Selection: I queried the '\n",
      "                               'awslabbigdataagentstack_db.data table which '\n",
      "                               'contains NYC taxi trip records. 2. Airport '\n",
      "                               'Identification: I identified airport rides '\n",
      "                               'using three criteria: airport_fee > 0 (direct '\n",
      "                               'indicator of airport-related fees), ratecodeid '\n",
      "                               '= 2 (JFK airport rate code), and ratecodeid = '\n",
      "                               '3 (Newark airport rate code). 3. Year '\n",
      "                               \"Filtering: Applied WHERE year = '2025' to get \"\n",
      "                               'only 2025 data, leveraging the year partition '\n",
      "                               'for efficient querying. 4. Grouping and '\n",
      "                               'Counting: Used GROUP BY month to aggregate '\n",
      "                               'rides by month and COUNT(*) to get the total '\n",
      "                               'number of rides. 5. Ordering: Sorted results '\n",
      "                               'by month using CAST(month AS INTEGER) to '\n",
      "                               'ensure proper numerical ordering.',\n",
      "                  'sql_statement': 'SELECT \\n'\n",
      "                                   '    month,\\n'\n",
      "                                   '    COUNT(*) as airport_rides\\n'\n",
      "                                   'FROM awslabbigdataagentstack_db.data\\n'\n",
      "                                   \"WHERE year = '2025'\\n\"\n",
      "                                   '    AND (airport_fee > 0 OR ratecodeid = 2 '\n",
      "                                   'OR ratecodeid = 3)\\n'\n",
      "                                   'GROUP BY month\\n'\n",
      "                                   'ORDER BY CAST(month AS INTEGER)'}]}\n"
     ]
    }
   ],
   "source": [
    "response = get_query_response(f\"How many rides went to Airport each month in 2025?\")\n",
    "pprint(response)"
   ]
  },
  {
   "cell_type": "code",
   "execution_count": null,
   "metadata": {},
   "outputs": [],
   "source": [
    "response = get_query_response(f\"How many taxi vendors are there? Plot a bar chart with ride count and fare amount.\")\n",
    "print(response)"
   ]
  },
  {
   "cell_type": "code",
   "execution_count": null,
   "metadata": {},
   "outputs": [],
   "source": [
    "response = get_query_response(\"For the top 25 percentile of ride fares per yellow / green class, what is ratio of tips to total fare? If I am a taxi driver which routes and times should I drive to get the most tips?\")\n",
    "pprint(response)"
   ]
  }
 ],
 "metadata": {
  "kernelspec": {
   "display_name": "Python 3 (ipykernel)",
   "language": "python",
   "name": "python3"
  },
  "language_info": {
   "codemirror_mode": {
    "name": "ipython",
    "version": 3
   },
   "file_extension": ".py",
   "mimetype": "text/x-python",
   "name": "python",
   "nbconvert_exporter": "python",
   "pygments_lexer": "ipython3",
   "version": "3.12.9"
  }
 },
 "nbformat": 4,
 "nbformat_minor": 4
}
