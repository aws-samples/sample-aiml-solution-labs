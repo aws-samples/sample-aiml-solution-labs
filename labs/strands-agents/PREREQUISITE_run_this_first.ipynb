{
 "cells": [
  {
   "cell_type": "markdown",
   "id": "055c1fab-abcb-40df-bcd1-20b60d2273ce",
   "metadata": {},
   "source": [
    "### Configure the Model for Strands Agents\n"
   ]
  },
  {
   "cell_type": "markdown",
   "id": "e05d69d6",
   "metadata": {},
   "source": [
    "# Installing Dependencies\n",
    "\n",
    "Please install the dependencies before proceeding with the rest of the workshop."
   ]
  },
  {
   "cell_type": "code",
   "execution_count": null,
   "id": "d64ef10b",
   "metadata": {},
   "outputs": [],
   "source": [
    "%%capture\n",
    "import warnings\n",
    "warnings.filterwarnings(\"ignore\")\n",
    "%pip uninstall -q -y autogluon-multimodal autogluon-timeseries autogluon-features autogluon-common autogluon-core\n",
    "%pip install -Uq -r requirements.txt\n",
    "from IPython import get_ipython\n",
    "get_ipython().kernel.do_shutdown(True)\n"
   ]
  },
  {
   "cell_type": "markdown",
   "id": "6795ccde-9d4a-4488-8fd2-8a0747801392",
   "metadata": {},
   "source": [
    "# Create knowledge base\n",
    "\n",
    "### We will create a knowledge base with s3 as vector store. We will leverage this knowledge base in our lab to query and retreive information by agents. "
   ]
  },
  {
   "cell_type": "code",
   "execution_count": null,
   "id": "8c033499-7d03-4fbe-be60-5218aaafd6b1",
   "metadata": {},
   "outputs": [],
   "source": [
    "!python ./utils/create_kb.py"
   ]
  }
 ],
 "metadata": {
  "kernelspec": {
   "display_name": "Python 3 (ipykernel)",
   "language": "python",
   "name": "python3"
  },
  "language_info": {
   "codemirror_mode": {
    "name": "ipython",
    "version": 3
   },
   "file_extension": ".py",
   "mimetype": "text/x-python",
   "name": "python",
   "nbconvert_exporter": "python",
   "pygments_lexer": "ipython3",
   "version": "3.12.9"
  }
 },
 "nbformat": 4,
 "nbformat_minor": 5
}
